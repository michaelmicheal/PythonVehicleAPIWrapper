{
 "metadata": {
  "language_info": {
   "codemirror_mode": {
    "name": "ipython",
    "version": 3
   },
   "file_extension": ".py",
   "mimetype": "text/x-python",
   "name": "python",
   "nbconvert_exporter": "python",
   "pygments_lexer": "ipython3",
   "version": "3.7.2-final"
  },
  "orig_nbformat": 2,
  "kernelspec": {
   "name": "python3",
   "display_name": "Python 3",
   "language": "python"
  }
 },
 "nbformat": 4,
 "nbformat_minor": 2,
 "cells": [
  {
   "source": [
    "## Importing Python Vehicel API Wrapper"
   ],
   "cell_type": "markdown",
   "metadata": {}
  },
  {
   "source": [
    "import pvaw as pv\n"
   ],
   "cell_type": "code",
   "metadata": {},
   "execution_count": 21,
   "outputs": []
  },
  {
   "source": [
    "# Vin Decoding\n",
    "The NHTSA Vehicle API supports individual and batch decoding. "
   ],
   "cell_type": "markdown",
   "metadata": {}
  },
  {
   "source": [
    "## Vin Class\n",
    "\n",
    "#### class pvaw.Vin(full_or_partial_vin, model_year=None)\n",
    "\n",
    "### Parameters:\n",
    "\n",
    "full_or_partial_vin : string representing a Vehicle Identification Number (VIN). It can be either the full VIN (e.g. \"3C6JR7AT4EG248404\"), or be a subset of the VIN with missing characters replaced by the '\\*' character (e.g. \"5YJSA3DS*EF\")\n",
    "\n",
    "model_year : string or integer representing the model year of the vehicle. Defaults to None.\n",
    "\n"
   ],
   "cell_type": "markdown",
   "metadata": {}
  },
  {
   "source": [
    "#### Constructing a Vin"
   ],
   "cell_type": "markdown",
   "metadata": {}
  },
  {
   "cell_type": "code",
   "execution_count": 22,
   "metadata": {},
   "outputs": [],
   "source": [
    "# creating a Vin object from partial vin\n",
    "vin_1 = pv.Vin(\"5YJSA3DS*EF\")\n",
    "\n",
    "# creationg a Vin object from partial vin and year\n",
    "vin_2 = pv.Vin(\"5UXWX7C5*BA\", 2011)"
   ]
  },
  {
   "source": [
    "## Decoding a Vin\n",
    "\n",
    "#### pvaw.Vin.decode()\n",
    "Returns: A Vehicle object with information about the Vin's associated vehicle\n",
    "\n"
   ],
   "cell_type": "markdown",
   "metadata": {}
  },
  {
   "cell_type": "code",
   "execution_count": 23,
   "metadata": {},
   "outputs": [
    {
     "output_type": "execute_result",
     "data": {
      "text/plain": [
       "<pvaw.vin.Vehicle at 0x11bb87908>"
      ],
      "text/html": "Vehicle:\n<table><tr><th>Attribute</th><th>Value</th></tr><tr><td>full_or_partial_vin</td><td>5YJSA3DS*EF</td></tr>\n<tr><td>model_year</td><td>2014</td></tr>\n<tr><td>manufacturer</td><td>TESLA, INC.</td></tr>\n<tr><td>make</td><td>TESLA</td></tr>\n<tr><td>model</td><td>Model S</td></tr>\n<tr><td>vehicle_type</td><td>PASSENGER CAR</td></tr></table>"
     },
     "metadata": {},
     "execution_count": 23
    }
   ],
   "source": [
    "vehicle = vin_1.decode()\n",
    "vehicle"
   ]
  },
  {
   "source": [
    "#### Getting Key Attributes"
   ],
   "cell_type": "markdown",
   "metadata": {}
  },
  {
   "cell_type": "code",
   "execution_count": 24,
   "metadata": {},
   "outputs": [
    {
     "output_type": "stream",
     "name": "stdout",
     "text": [
      "2014\nTESLA\nTESLA, INC.\nModel S\n5YJSA3DS*EF\nPASSENGER CAR\n"
     ]
    }
   ],
   "source": [
    "print(vehicle.model_year)\n",
    "print(vehicle.make)\n",
    "print(vehicle.manufacturer)\n",
    "print(vehicle.model)\n",
    "print(vehicle.full_or_partial_vin)\n",
    "print(vehicle.vehicle_type) "
   ]
  },
  {
   "source": [
    "Getting JSON Results"
   ],
   "cell_type": "markdown",
   "metadata": {}
  },
  {
   "cell_type": "code",
   "execution_count": 25,
   "metadata": {},
   "outputs": [
    {
     "output_type": "execute_result",
     "data": {
      "text/plain": [
       "{'ABS': '',\n",
       " 'ActiveSafetySysNote': '',\n",
       " 'AdaptiveCruiseControl': '',\n",
       " 'AdaptiveDrivingBeam': '',\n",
       " 'AdaptiveHeadlights': '',\n",
       " 'AdditionalErrorText': 'The error positions are indicated by ! in Suggested VIN. In the Possible values section, each pair of parenthesis indicate information about each error position in VIN . The Numeric value before the : indicates the position in error and the values after the : indicate the possible values that are allowed in this position Unused position(s): 8;',\n",
       " 'AirBagLocCurtain': '',\n",
       " 'AirBagLocFront': '1st Row (Driver & Passenger)',\n",
       " 'AirBagLocKnee': '1st Row (Driver & Passenger)',\n",
       " 'AirBagLocSeatCushion': '',\n",
       " 'AirBagLocSide': 'All Rows',\n",
       " 'AutoReverseSystem': '',\n",
       " 'AutomaticPedestrianAlertingSound': '',\n",
       " 'AxleConfiguration': '',\n",
       " 'Axles': '',\n",
       " 'BasePrice': '',\n",
       " 'BatteryA': '',\n",
       " 'BatteryA_to': '',\n",
       " 'BatteryCells': '',\n",
       " 'BatteryInfo': '',\n",
       " 'BatteryKWh': '20',\n",
       " 'BatteryKWh_to': '',\n",
       " 'BatteryModules': '',\n",
       " 'BatteryPacks': '',\n",
       " 'BatteryType': '',\n",
       " 'BatteryV': '',\n",
       " 'BatteryV_to': '',\n",
       " 'BedLengthIN': '',\n",
       " 'BedType': 'Not Applicable',\n",
       " 'BlindSpotMon': '',\n",
       " 'BodyCabType': 'Not Applicable',\n",
       " 'BodyClass': 'Hatchback/Liftback/Notchback',\n",
       " 'BrakeSystemDesc': '',\n",
       " 'BrakeSystemType': '',\n",
       " 'BusFloorConfigType': 'Not Applicable',\n",
       " 'BusLength': '',\n",
       " 'BusType': 'Not Applicable',\n",
       " 'CAN_AACN': '',\n",
       " 'CIB': '',\n",
       " 'CashForClunkers': '',\n",
       " 'ChargerLevel': '',\n",
       " 'ChargerPowerKW': '',\n",
       " 'CoolingType': '',\n",
       " 'CurbWeightLB': '',\n",
       " 'CustomMotorcycleType': 'Not Applicable',\n",
       " 'DaytimeRunningLight': '',\n",
       " 'DestinationMarket': '',\n",
       " 'DisplacementCC': '',\n",
       " 'DisplacementCI': '',\n",
       " 'DisplacementL': '',\n",
       " 'Doors': '5',\n",
       " 'DriveType': 'RWD/ Rear Wheel Drive',\n",
       " 'DriverAssist': '',\n",
       " 'DynamicBrakeSupport': '',\n",
       " 'EDR': '',\n",
       " 'ESC': '',\n",
       " 'EVDriveUnit': '',\n",
       " 'ElectrificationLevel': '',\n",
       " 'EngineConfiguration': '',\n",
       " 'EngineCycles': '',\n",
       " 'EngineCylinders': '',\n",
       " 'EngineHP': '',\n",
       " 'EngineHP_to': '',\n",
       " 'EngineKW': '',\n",
       " 'EngineManufacturer': '',\n",
       " 'EngineModel': '',\n",
       " 'EntertainmentSystem': '',\n",
       " 'ErrorCode': '5,6,14',\n",
       " 'ErrorText': '5 - VIN has errors in few positions; 6 - Incomplete VIN; 14 - Unable to provide information for all the characters in the VIN.',\n",
       " 'ForwardCollisionWarning': '',\n",
       " 'FuelInjectionType': '',\n",
       " 'FuelTypePrimary': '',\n",
       " 'FuelTypeSecondary': '',\n",
       " 'GCWR': '',\n",
       " 'GCWR_to': '',\n",
       " 'GVWR': '',\n",
       " 'GVWR_to': '',\n",
       " 'KeylessIgnition': '',\n",
       " 'LaneDepartureWarning': '',\n",
       " 'LaneKeepSystem': '',\n",
       " 'LowerBeamHeadlampLightSource': '',\n",
       " 'Make': 'TESLA',\n",
       " 'MakeID': '441',\n",
       " 'Manufacturer': 'TESLA, INC.',\n",
       " 'ManufacturerId': '955',\n",
       " 'Model': 'Model S',\n",
       " 'ModelID': '1685',\n",
       " 'ModelYear': '2014',\n",
       " 'MotorcycleChassisType': 'Not Applicable',\n",
       " 'MotorcycleSuspensionType': 'Not Applicable',\n",
       " 'NCSABodyType': '',\n",
       " 'NCSAMake': '',\n",
       " 'NCSAMapExcApprovedBy': '',\n",
       " 'NCSAMapExcApprovedOn': '',\n",
       " 'NCSAMappingException': '',\n",
       " 'NCSAModel': '',\n",
       " 'NCSANote': '',\n",
       " 'Note': '',\n",
       " 'OtherBusInfo': '',\n",
       " 'OtherEngineInfo': '',\n",
       " 'OtherMotorcycleInfo': '',\n",
       " 'OtherRestraintSystemInfo': '',\n",
       " 'OtherTrailerInfo': '',\n",
       " 'ParkAssist': '',\n",
       " 'PedestrianAutomaticEmergencyBraking': '',\n",
       " 'PlantCity': 'FREMONT',\n",
       " 'PlantCompanyName': 'Tesla - Fremont, CA (FRE)',\n",
       " 'PlantCountry': 'UNITED STATES (USA)',\n",
       " 'PlantState': 'CALIFORNIA',\n",
       " 'PossibleValues': '(8:12)(12:ABFPRS)',\n",
       " 'Pretensioner': '',\n",
       " 'RearCrossTrafficAlert': '',\n",
       " 'RearVisibilitySystem': '',\n",
       " 'SAEAutomationLevel': '',\n",
       " 'SAEAutomationLevel_to': '',\n",
       " 'SeatBeltsAll': 'Manual',\n",
       " 'SeatRows': '',\n",
       " 'Seats': '',\n",
       " 'SemiautomaticHeadlampBeamSwitching': '',\n",
       " 'Series': '',\n",
       " 'Series2': '',\n",
       " 'SteeringLocation': 'Left Hand Drive (LHD)',\n",
       " 'SuggestedVIN': '5YJSA3D!*EF!  ',\n",
       " 'TPMS': 'Direct',\n",
       " 'TopSpeedMPH': '',\n",
       " 'TrackWidth': '',\n",
       " 'TractionControl': '',\n",
       " 'TrailerBodyType': 'Not Applicable',\n",
       " 'TrailerLength': '',\n",
       " 'TrailerType': 'Not Applicable',\n",
       " 'TransmissionSpeeds': '',\n",
       " 'TransmissionStyle': '',\n",
       " 'Trim': 'w/DC Fast Charge',\n",
       " 'Trim2': '',\n",
       " 'Turbo': '',\n",
       " 'VIN': '5YJSA3DS*EF',\n",
       " 'ValveTrainDesign': '',\n",
       " 'VehicleType': 'PASSENGER CAR',\n",
       " 'WheelBaseLong': '',\n",
       " 'WheelBaseShort': '',\n",
       " 'WheelBaseType': '',\n",
       " 'WheelSizeFront': '',\n",
       " 'WheelSizeRear': '',\n",
       " 'Wheels': '',\n",
       " 'Windows': ''}"
      ]
     },
     "metadata": {},
     "execution_count": 25
    }
   ],
   "source": [
    "vehicle.get_results()"
   ]
  },
  {
   "source": [
    "Getting DataFrame"
   ],
   "cell_type": "markdown",
   "metadata": {}
  },
  {
   "cell_type": "code",
   "execution_count": 26,
   "metadata": {},
   "outputs": [
    {
     "output_type": "execute_result",
     "data": {
      "text/plain": [
       "                                           AdditionalErrorText  \\\n",
       "5YJSA3DS*EF  The error positions are indicated by ! in Sugg...   \n",
       "\n",
       "                           AirBagLocFront                 AirBagLocKnee  \\\n",
       "5YJSA3DS*EF  1st Row (Driver & Passenger)  1st Row (Driver & Passenger)   \n",
       "\n",
       "            AirBagLocSide BatteryKWh         BedType     BodyCabType  \\\n",
       "5YJSA3DS*EF      All Rows         20  Not Applicable  Not Applicable   \n",
       "\n",
       "                                BodyClass BusFloorConfigType         BusType  \\\n",
       "5YJSA3DS*EF  Hatchback/Liftback/Notchback     Not Applicable  Not Applicable   \n",
       "\n",
       "             ...     PossibleValues SeatBeltsAll       SteeringLocation  \\\n",
       "5YJSA3DS*EF  ...  (8:12)(12:ABFPRS)       Manual  Left Hand Drive (LHD)   \n",
       "\n",
       "               SuggestedVIN    TPMS TrailerBodyType     TrailerType  \\\n",
       "5YJSA3DS*EF  5YJSA3D!*EF!    Direct  Not Applicable  Not Applicable   \n",
       "\n",
       "                         Trim          VIN    VehicleType  \n",
       "5YJSA3DS*EF  w/DC Fast Charge  5YJSA3DS*EF  PASSENGER CAR  \n",
       "\n",
       "[1 rows x 38 columns]"
      ],
      "text/html": "<div>\n<style scoped>\n    .dataframe tbody tr th:only-of-type {\n        vertical-align: middle;\n    }\n\n    .dataframe tbody tr th {\n        vertical-align: top;\n    }\n\n    .dataframe thead th {\n        text-align: right;\n    }\n</style>\n<table border=\"1\" class=\"dataframe\">\n  <thead>\n    <tr style=\"text-align: right;\">\n      <th></th>\n      <th>AdditionalErrorText</th>\n      <th>AirBagLocFront</th>\n      <th>AirBagLocKnee</th>\n      <th>AirBagLocSide</th>\n      <th>BatteryKWh</th>\n      <th>BedType</th>\n      <th>BodyCabType</th>\n      <th>BodyClass</th>\n      <th>BusFloorConfigType</th>\n      <th>BusType</th>\n      <th>...</th>\n      <th>PossibleValues</th>\n      <th>SeatBeltsAll</th>\n      <th>SteeringLocation</th>\n      <th>SuggestedVIN</th>\n      <th>TPMS</th>\n      <th>TrailerBodyType</th>\n      <th>TrailerType</th>\n      <th>Trim</th>\n      <th>VIN</th>\n      <th>VehicleType</th>\n    </tr>\n  </thead>\n  <tbody>\n    <tr>\n      <th>5YJSA3DS*EF</th>\n      <td>The error positions are indicated by ! in Sugg...</td>\n      <td>1st Row (Driver &amp; Passenger)</td>\n      <td>1st Row (Driver &amp; Passenger)</td>\n      <td>All Rows</td>\n      <td>20</td>\n      <td>Not Applicable</td>\n      <td>Not Applicable</td>\n      <td>Hatchback/Liftback/Notchback</td>\n      <td>Not Applicable</td>\n      <td>Not Applicable</td>\n      <td>...</td>\n      <td>(8:12)(12:ABFPRS)</td>\n      <td>Manual</td>\n      <td>Left Hand Drive (LHD)</td>\n      <td>5YJSA3D!*EF!</td>\n      <td>Direct</td>\n      <td>Not Applicable</td>\n      <td>Not Applicable</td>\n      <td>w/DC Fast Charge</td>\n      <td>5YJSA3DS*EF</td>\n      <td>PASSENGER CAR</td>\n    </tr>\n  </tbody>\n</table>\n<p>1 rows × 38 columns</p>\n</div>"
     },
     "metadata": {},
     "execution_count": 26
    }
   ],
   "source": [
    "vehicle.get_df()"
   ]
  },
  {
   "source": [
    "## Batch Decoding\n",
    "\n",
    "pvaw.decode_vins(vins)\n",
    "\n",
    "Parameters: vins: list of Vin objects\n",
    "\n",
    "Returns: ResultsList object which stores a list of Vehicle objects\n",
    "    "
   ],
   "cell_type": "markdown",
   "metadata": {}
  },
  {
   "cell_type": "code",
   "execution_count": 27,
   "metadata": {},
   "outputs": [
    {
     "output_type": "execute_result",
     "data": {
      "text/plain": [
       "<pvaw.results.ResultsList at 0x11bba97b8>"
      ],
      "text/html": "[Vehicle:\n<table><tr><th>Attribute</th><th>Value</th></tr><tr><td>full_or_partial_vin</td><td>5YJSA3DS*EF</td></tr>\n<tr><td>model_year</td><td>2014</td></tr>\n<tr><td>manufacturer</td><td>TESLA, INC.</td></tr>\n<tr><td>make</td><td>TESLA</td></tr>\n<tr><td>model</td><td>Model S</td></tr>\n<tr><td>vehicle_type</td><td>PASSENGER CAR</td></tr></table>,\n Vehicle:\n<table><tr><th>Attribute</th><th>Value</th></tr><tr><td>full_or_partial_vin</td><td>5UXWX7C5*BA</td></tr>\n<tr><td>model_year</td><td>2011</td></tr>\n<tr><td>manufacturer</td><td>BMW MANUFACTURER CORPORATION / BMW NORTH AMERICA</td></tr>\n<tr><td>make</td><td>BMW</td></tr>\n<tr><td>model</td><td>X3</td></tr>\n<tr><td>vehicle_type</td><td>MULTIPURPOSE PASSENGER VEHICLE (MPV)</td></tr></table>]"
     },
     "metadata": {},
     "execution_count": 27
    }
   ],
   "source": [
    "vehicles = pv.decode_vins([vin_1, vin_2])\n",
    "vehicles"
   ]
  },
  {
   "source": [
    "Accessing each Vehicle"
   ],
   "cell_type": "markdown",
   "metadata": {}
  },
  {
   "source": [
    "# Iterating through vehicles\n",
    "for vehicle in vehicles:\n",
    "    display(vehicle)\n",
    "\n",
    "# Indexing Vehicles\n",
    "first = vehicles[0]\n",
    "last = vehicles[len(vehicles) - 1]"
   ],
   "cell_type": "code",
   "metadata": {},
   "execution_count": 30,
   "outputs": [
    {
     "output_type": "display_data",
     "data": {
      "text/plain": "<pvaw.vin.Vehicle at 0x11bba9470>",
      "text/html": "Vehicle:\n<table><tr><th>Attribute</th><th>Value</th></tr><tr><td>full_or_partial_vin</td><td>5YJSA3DS*EF</td></tr>\n<tr><td>model_year</td><td>2014</td></tr>\n<tr><td>manufacturer</td><td>TESLA, INC.</td></tr>\n<tr><td>make</td><td>TESLA</td></tr>\n<tr><td>model</td><td>Model S</td></tr>\n<tr><td>vehicle_type</td><td>PASSENGER CAR</td></tr></table>"
     },
     "metadata": {}
    },
    {
     "output_type": "display_data",
     "data": {
      "text/plain": "<pvaw.vin.Vehicle at 0x11bba93c8>",
      "text/html": "Vehicle:\n<table><tr><th>Attribute</th><th>Value</th></tr><tr><td>full_or_partial_vin</td><td>5UXWX7C5*BA</td></tr>\n<tr><td>model_year</td><td>2011</td></tr>\n<tr><td>manufacturer</td><td>BMW MANUFACTURER CORPORATION / BMW NORTH AMERICA</td></tr>\n<tr><td>make</td><td>BMW</td></tr>\n<tr><td>model</td><td>X3</td></tr>\n<tr><td>vehicle_type</td><td>MULTIPURPOSE PASSENGER VEHICLE (MPV)</td></tr></table>"
     },
     "metadata": {}
    }
   ]
  },
  {
   "source": [
    "#### Getting JSON Results"
   ],
   "cell_type": "markdown",
   "metadata": {}
  },
  {
   "cell_type": "code",
   "execution_count": 31,
   "metadata": {},
   "outputs": [
    {
     "output_type": "execute_result",
     "data": {
      "text/plain": [
       "[{'ABS': '',\n",
       "  'ActiveSafetySysNote': '',\n",
       "  'AdaptiveCruiseControl': '',\n",
       "  'AdaptiveDrivingBeam': '',\n",
       "  'AdaptiveHeadlights': '',\n",
       "  'AdditionalErrorText': 'The error positions are indicated by ! in Suggested VIN. In the Possible values section, each pair of parenthesis indicate information about each error position in VIN . The Numeric value before the : indicates the position in error and the values after the : indicate the possible values that are allowed in this position Unused position(s): 8;',\n",
       "  'AirBagLocCurtain': '',\n",
       "  'AirBagLocFront': '1st Row (Driver & Passenger)',\n",
       "  'AirBagLocKnee': '1st Row (Driver & Passenger)',\n",
       "  'AirBagLocSeatCushion': '',\n",
       "  'AirBagLocSide': 'All Rows',\n",
       "  'AutoReverseSystem': '',\n",
       "  'AutomaticPedestrianAlertingSound': '',\n",
       "  'AxleConfiguration': '',\n",
       "  'Axles': '',\n",
       "  'BasePrice': '',\n",
       "  'BatteryA': '',\n",
       "  'BatteryA_to': '',\n",
       "  'BatteryCells': '',\n",
       "  'BatteryInfo': '',\n",
       "  'BatteryKWh': '20',\n",
       "  'BatteryKWh_to': '',\n",
       "  'BatteryModules': '',\n",
       "  'BatteryPacks': '',\n",
       "  'BatteryType': '',\n",
       "  'BatteryV': '',\n",
       "  'BatteryV_to': '',\n",
       "  'BedLengthIN': '',\n",
       "  'BedType': 'Not Applicable',\n",
       "  'BlindSpotMon': '',\n",
       "  'BodyCabType': 'Not Applicable',\n",
       "  'BodyClass': 'Hatchback/Liftback/Notchback',\n",
       "  'BrakeSystemDesc': '',\n",
       "  'BrakeSystemType': '',\n",
       "  'BusFloorConfigType': 'Not Applicable',\n",
       "  'BusLength': '',\n",
       "  'BusType': 'Not Applicable',\n",
       "  'CAN_AACN': '',\n",
       "  'CIB': '',\n",
       "  'CashForClunkers': '',\n",
       "  'ChargerLevel': '',\n",
       "  'ChargerPowerKW': '',\n",
       "  'CoolingType': '',\n",
       "  'CurbWeightLB': '',\n",
       "  'CustomMotorcycleType': 'Not Applicable',\n",
       "  'DaytimeRunningLight': '',\n",
       "  'DestinationMarket': '',\n",
       "  'DisplacementCC': '',\n",
       "  'DisplacementCI': '',\n",
       "  'DisplacementL': '',\n",
       "  'Doors': '5',\n",
       "  'DriveType': 'RWD/ Rear Wheel Drive',\n",
       "  'DriverAssist': '',\n",
       "  'DynamicBrakeSupport': '',\n",
       "  'EDR': '',\n",
       "  'ESC': '',\n",
       "  'EVDriveUnit': '',\n",
       "  'ElectrificationLevel': '',\n",
       "  'EngineConfiguration': '',\n",
       "  'EngineCycles': '',\n",
       "  'EngineCylinders': '',\n",
       "  'EngineHP': '',\n",
       "  'EngineHP_to': '',\n",
       "  'EngineKW': '',\n",
       "  'EngineManufacturer': '',\n",
       "  'EngineModel': '',\n",
       "  'EntertainmentSystem': '',\n",
       "  'ErrorCode': '5,6,14',\n",
       "  'ErrorText': '5 - VIN has errors in few positions; 6 - Incomplete VIN; 14 - Unable to provide information for all the characters in the VIN.',\n",
       "  'ForwardCollisionWarning': '',\n",
       "  'FuelInjectionType': '',\n",
       "  'FuelTypePrimary': '',\n",
       "  'FuelTypeSecondary': '',\n",
       "  'GCWR': '',\n",
       "  'GCWR_to': '',\n",
       "  'GVWR': '',\n",
       "  'GVWR_to': '',\n",
       "  'KeylessIgnition': '',\n",
       "  'LaneDepartureWarning': '',\n",
       "  'LaneKeepSystem': '',\n",
       "  'LowerBeamHeadlampLightSource': '',\n",
       "  'Make': 'TESLA',\n",
       "  'MakeID': '441',\n",
       "  'Manufacturer': 'TESLA, INC.',\n",
       "  'ManufacturerId': '955',\n",
       "  'Model': 'Model S',\n",
       "  'ModelID': '1685',\n",
       "  'ModelYear': '2014',\n",
       "  'MotorcycleChassisType': 'Not Applicable',\n",
       "  'MotorcycleSuspensionType': 'Not Applicable',\n",
       "  'NCSABodyType': '',\n",
       "  'NCSAMake': '',\n",
       "  'NCSAMapExcApprovedBy': '',\n",
       "  'NCSAMapExcApprovedOn': '',\n",
       "  'NCSAMappingException': '',\n",
       "  'NCSAModel': '',\n",
       "  'NCSANote': '',\n",
       "  'Note': '',\n",
       "  'OtherBusInfo': '',\n",
       "  'OtherEngineInfo': '',\n",
       "  'OtherMotorcycleInfo': '',\n",
       "  'OtherRestraintSystemInfo': '',\n",
       "  'OtherTrailerInfo': '',\n",
       "  'ParkAssist': '',\n",
       "  'PedestrianAutomaticEmergencyBraking': '',\n",
       "  'PlantCity': 'FREMONT',\n",
       "  'PlantCompanyName': 'Tesla - Fremont, CA (FRE)',\n",
       "  'PlantCountry': 'UNITED STATES (USA)',\n",
       "  'PlantState': 'CALIFORNIA',\n",
       "  'PossibleValues': '(8:12)(12:ABFPRS)',\n",
       "  'Pretensioner': '',\n",
       "  'RearCrossTrafficAlert': '',\n",
       "  'RearVisibilitySystem': '',\n",
       "  'SAEAutomationLevel': '',\n",
       "  'SAEAutomationLevel_to': '',\n",
       "  'SeatBeltsAll': 'Manual',\n",
       "  'SeatRows': '',\n",
       "  'Seats': '',\n",
       "  'SemiautomaticHeadlampBeamSwitching': '',\n",
       "  'Series': '',\n",
       "  'Series2': '',\n",
       "  'SteeringLocation': 'Left Hand Drive (LHD)',\n",
       "  'SuggestedVIN': '5YJSA3D!*EF!  ',\n",
       "  'TPMS': 'Direct',\n",
       "  'TopSpeedMPH': '',\n",
       "  'TrackWidth': '',\n",
       "  'TractionControl': '',\n",
       "  'TrailerBodyType': 'Not Applicable',\n",
       "  'TrailerLength': '',\n",
       "  'TrailerType': 'Not Applicable',\n",
       "  'TransmissionSpeeds': '',\n",
       "  'TransmissionStyle': '',\n",
       "  'Trim': 'w/DC Fast Charge',\n",
       "  'Trim2': '',\n",
       "  'Turbo': '',\n",
       "  'VIN': '5YJSA3DS*EF',\n",
       "  'ValveTrainDesign': '',\n",
       "  'VehicleType': 'PASSENGER CAR',\n",
       "  'WheelBaseLong': '',\n",
       "  'WheelBaseShort': '',\n",
       "  'WheelBaseType': '',\n",
       "  'WheelSizeFront': '',\n",
       "  'WheelSizeRear': '',\n",
       "  'Wheels': '',\n",
       "  'Windows': ''},\n",
       " {'ABS': '',\n",
       "  'ActiveSafetySysNote': '',\n",
       "  'AdaptiveCruiseControl': '',\n",
       "  'AdaptiveDrivingBeam': '',\n",
       "  'AdaptiveHeadlights': '',\n",
       "  'AdditionalErrorText': '',\n",
       "  'AirBagLocCurtain': '',\n",
       "  'AirBagLocFront': '1st Row (Driver & Passenger)',\n",
       "  'AirBagLocKnee': '',\n",
       "  'AirBagLocSeatCushion': '',\n",
       "  'AirBagLocSide': '1st Row (Driver & Passenger)',\n",
       "  'AutoReverseSystem': '',\n",
       "  'AutomaticPedestrianAlertingSound': '',\n",
       "  'AxleConfiguration': '',\n",
       "  'Axles': '',\n",
       "  'BasePrice': '',\n",
       "  'BatteryA': '',\n",
       "  'BatteryA_to': '',\n",
       "  'BatteryCells': '',\n",
       "  'BatteryInfo': '',\n",
       "  'BatteryKWh': '',\n",
       "  'BatteryKWh_to': '',\n",
       "  'BatteryModules': '',\n",
       "  'BatteryPacks': '',\n",
       "  'BatteryType': '',\n",
       "  'BatteryV': '',\n",
       "  'BatteryV_to': '',\n",
       "  'BedLengthIN': '',\n",
       "  'BedType': '',\n",
       "  'BlindSpotMon': '',\n",
       "  'BodyCabType': '',\n",
       "  'BodyClass': 'Sport Utility Vehicle (SUV)/Multi-Purpose Vehicle (MPV)',\n",
       "  'BrakeSystemDesc': '',\n",
       "  'BrakeSystemType': '',\n",
       "  'BusFloorConfigType': 'Not Applicable',\n",
       "  'BusLength': '',\n",
       "  'BusType': 'Not Applicable',\n",
       "  'CAN_AACN': '',\n",
       "  'CIB': '',\n",
       "  'CashForClunkers': '',\n",
       "  'ChargerLevel': '',\n",
       "  'ChargerPowerKW': '',\n",
       "  'CoolingType': '',\n",
       "  'CurbWeightLB': '',\n",
       "  'CustomMotorcycleType': 'Not Applicable',\n",
       "  'DaytimeRunningLight': '',\n",
       "  'DestinationMarket': '',\n",
       "  'DisplacementCC': '2979.1682352',\n",
       "  'DisplacementCI': '181.8',\n",
       "  'DisplacementL': '3.0',\n",
       "  'Doors': '4',\n",
       "  'DriveType': '',\n",
       "  'DriverAssist': '',\n",
       "  'DynamicBrakeSupport': '',\n",
       "  'EDR': '',\n",
       "  'ESC': '',\n",
       "  'EVDriveUnit': '',\n",
       "  'ElectrificationLevel': '',\n",
       "  'EngineConfiguration': '',\n",
       "  'EngineCycles': '',\n",
       "  'EngineCylinders': '6',\n",
       "  'EngineHP': '300',\n",
       "  'EngineHP_to': '',\n",
       "  'EngineKW': '223.7100',\n",
       "  'EngineManufacturer': '',\n",
       "  'EngineModel': '',\n",
       "  'EntertainmentSystem': '',\n",
       "  'ErrorCode': '6',\n",
       "  'ErrorText': '6 - Incomplete VIN',\n",
       "  'ForwardCollisionWarning': '',\n",
       "  'FuelInjectionType': '',\n",
       "  'FuelTypePrimary': 'Gasoline',\n",
       "  'FuelTypeSecondary': '',\n",
       "  'GCWR': '',\n",
       "  'GCWR_to': '',\n",
       "  'GVWR': 'Class 1D: 5,001 - 6,000 lb (2,268 - 2,722 kg)',\n",
       "  'GVWR_to': '',\n",
       "  'KeylessIgnition': '',\n",
       "  'LaneDepartureWarning': '',\n",
       "  'LaneKeepSystem': '',\n",
       "  'LowerBeamHeadlampLightSource': '',\n",
       "  'Make': 'BMW',\n",
       "  'MakeID': '452',\n",
       "  'Manufacturer': 'BMW MANUFACTURER CORPORATION / BMW NORTH AMERICA',\n",
       "  'ManufacturerId': '968',\n",
       "  'Model': 'X3',\n",
       "  'ModelID': '1719',\n",
       "  'ModelYear': '2011',\n",
       "  'MotorcycleChassisType': 'Not Applicable',\n",
       "  'MotorcycleSuspensionType': 'Not Applicable',\n",
       "  'NCSABodyType': '',\n",
       "  'NCSAMake': '',\n",
       "  'NCSAMapExcApprovedBy': '',\n",
       "  'NCSAMapExcApprovedOn': '',\n",
       "  'NCSAMappingException': '',\n",
       "  'NCSAModel': '',\n",
       "  'NCSANote': '',\n",
       "  'Note': '',\n",
       "  'OtherBusInfo': '',\n",
       "  'OtherEngineInfo': '',\n",
       "  'OtherMotorcycleInfo': '',\n",
       "  'OtherRestraintSystemInfo': 'Head Inflatable Restraint for Driver, Front Passenger, Rear Outboard Driver-side and Rear Outboard Passenger-side.  Knee Inflatable Restraint for Driver.  Pretensioners for Driver and Front Passenger.',\n",
       "  'OtherTrailerInfo': '',\n",
       "  'ParkAssist': '',\n",
       "  'PedestrianAutomaticEmergencyBraking': '',\n",
       "  'PlantCity': 'MUNICH',\n",
       "  'PlantCompanyName': '',\n",
       "  'PlantCountry': 'GERMANY',\n",
       "  'PlantState': '',\n",
       "  'PossibleValues': '',\n",
       "  'Pretensioner': 'Yes',\n",
       "  'RearCrossTrafficAlert': '',\n",
       "  'RearVisibilitySystem': '',\n",
       "  'SAEAutomationLevel': '',\n",
       "  'SAEAutomationLevel_to': '',\n",
       "  'SeatBeltsAll': 'Manual',\n",
       "  'SeatRows': '',\n",
       "  'Seats': '',\n",
       "  'SemiautomaticHeadlampBeamSwitching': '',\n",
       "  'Series': 'X3',\n",
       "  'Series2': '',\n",
       "  'SteeringLocation': '',\n",
       "  'SuggestedVIN': '',\n",
       "  'TPMS': 'Direct',\n",
       "  'TopSpeedMPH': '',\n",
       "  'TrackWidth': '',\n",
       "  'TractionControl': '',\n",
       "  'TrailerBodyType': 'Not Applicable',\n",
       "  'TrailerLength': '',\n",
       "  'TrailerType': 'Not Applicable',\n",
       "  'TransmissionSpeeds': '',\n",
       "  'TransmissionStyle': '',\n",
       "  'Trim': 'xDrive35i',\n",
       "  'Trim2': 'SAV',\n",
       "  'Turbo': '',\n",
       "  'VIN': '5UXWX7C5*BA',\n",
       "  'ValveTrainDesign': '',\n",
       "  'VehicleType': 'MULTIPURPOSE PASSENGER VEHICLE (MPV)',\n",
       "  'WheelBaseLong': '',\n",
       "  'WheelBaseShort': '',\n",
       "  'WheelBaseType': '',\n",
       "  'WheelSizeFront': '',\n",
       "  'WheelSizeRear': '',\n",
       "  'Wheels': '',\n",
       "  'Windows': ''}]"
      ]
     },
     "metadata": {},
     "execution_count": 31
    }
   ],
   "source": [
    "vehicles.get_results()"
   ]
  },
  {
   "source": [
    "#### Getting DataFrame"
   ],
   "cell_type": "markdown",
   "metadata": {}
  },
  {
   "cell_type": "code",
   "execution_count": 32,
   "metadata": {},
   "outputs": [
    {
     "output_type": "execute_result",
     "data": {
      "text/plain": [
       "                                AirBagLocFront                 AirBagLocSide  \\\n",
       "5YJSA3DS*EF       1st Row (Driver & Passenger)                      All Rows   \n",
       "5UXWX7C5*BA,2011  1st Row (Driver & Passenger)  1st Row (Driver & Passenger)   \n",
       "\n",
       "                                                          BodyClass  \\\n",
       "5YJSA3DS*EF                            Hatchback/Liftback/Notchback   \n",
       "5UXWX7C5*BA,2011  Sport Utility Vehicle (SUV)/Multi-Purpose Vehi...   \n",
       "\n",
       "                 BusFloorConfigType         BusType CustomMotorcycleType  \\\n",
       "5YJSA3DS*EF          Not Applicable  Not Applicable       Not Applicable   \n",
       "5UXWX7C5*BA,2011     Not Applicable  Not Applicable       Not Applicable   \n",
       "\n",
       "                 Doors ErrorCode  \\\n",
       "5YJSA3DS*EF          5    5,6,14   \n",
       "5UXWX7C5*BA,2011     4         6   \n",
       "\n",
       "                                                          ErrorText   Make  \\\n",
       "5YJSA3DS*EF       5 - VIN has errors in few positions; 6 - Incom...  TESLA   \n",
       "5UXWX7C5*BA,2011                                 6 - Incomplete VIN    BMW   \n",
       "\n",
       "                  ... MotorcycleSuspensionType PlantCity         PlantCountry  \\\n",
       "5YJSA3DS*EF       ...           Not Applicable   FREMONT  UNITED STATES (USA)   \n",
       "5UXWX7C5*BA,2011  ...           Not Applicable    MUNICH              GERMANY   \n",
       "\n",
       "                 SeatBeltsAll    TPMS TrailerBodyType     TrailerType  \\\n",
       "5YJSA3DS*EF            Manual  Direct  Not Applicable  Not Applicable   \n",
       "5UXWX7C5*BA,2011       Manual  Direct  Not Applicable  Not Applicable   \n",
       "\n",
       "                              Trim          VIN  \\\n",
       "5YJSA3DS*EF       w/DC Fast Charge  5YJSA3DS*EF   \n",
       "5UXWX7C5*BA,2011         xDrive35i  5UXWX7C5*BA   \n",
       "\n",
       "                                           VehicleType  \n",
       "5YJSA3DS*EF                              PASSENGER CAR  \n",
       "5UXWX7C5*BA,2011  MULTIPURPOSE PASSENGER VEHICLE (MPV)  \n",
       "\n",
       "[2 rows x 27 columns]"
      ],
      "text/html": "<div>\n<style scoped>\n    .dataframe tbody tr th:only-of-type {\n        vertical-align: middle;\n    }\n\n    .dataframe tbody tr th {\n        vertical-align: top;\n    }\n\n    .dataframe thead th {\n        text-align: right;\n    }\n</style>\n<table border=\"1\" class=\"dataframe\">\n  <thead>\n    <tr style=\"text-align: right;\">\n      <th></th>\n      <th>AirBagLocFront</th>\n      <th>AirBagLocSide</th>\n      <th>BodyClass</th>\n      <th>BusFloorConfigType</th>\n      <th>BusType</th>\n      <th>CustomMotorcycleType</th>\n      <th>Doors</th>\n      <th>ErrorCode</th>\n      <th>ErrorText</th>\n      <th>Make</th>\n      <th>...</th>\n      <th>MotorcycleSuspensionType</th>\n      <th>PlantCity</th>\n      <th>PlantCountry</th>\n      <th>SeatBeltsAll</th>\n      <th>TPMS</th>\n      <th>TrailerBodyType</th>\n      <th>TrailerType</th>\n      <th>Trim</th>\n      <th>VIN</th>\n      <th>VehicleType</th>\n    </tr>\n  </thead>\n  <tbody>\n    <tr>\n      <th>5YJSA3DS*EF</th>\n      <td>1st Row (Driver &amp; Passenger)</td>\n      <td>All Rows</td>\n      <td>Hatchback/Liftback/Notchback</td>\n      <td>Not Applicable</td>\n      <td>Not Applicable</td>\n      <td>Not Applicable</td>\n      <td>5</td>\n      <td>5,6,14</td>\n      <td>5 - VIN has errors in few positions; 6 - Incom...</td>\n      <td>TESLA</td>\n      <td>...</td>\n      <td>Not Applicable</td>\n      <td>FREMONT</td>\n      <td>UNITED STATES (USA)</td>\n      <td>Manual</td>\n      <td>Direct</td>\n      <td>Not Applicable</td>\n      <td>Not Applicable</td>\n      <td>w/DC Fast Charge</td>\n      <td>5YJSA3DS*EF</td>\n      <td>PASSENGER CAR</td>\n    </tr>\n    <tr>\n      <th>5UXWX7C5*BA,2011</th>\n      <td>1st Row (Driver &amp; Passenger)</td>\n      <td>1st Row (Driver &amp; Passenger)</td>\n      <td>Sport Utility Vehicle (SUV)/Multi-Purpose Vehi...</td>\n      <td>Not Applicable</td>\n      <td>Not Applicable</td>\n      <td>Not Applicable</td>\n      <td>4</td>\n      <td>6</td>\n      <td>6 - Incomplete VIN</td>\n      <td>BMW</td>\n      <td>...</td>\n      <td>Not Applicable</td>\n      <td>MUNICH</td>\n      <td>GERMANY</td>\n      <td>Manual</td>\n      <td>Direct</td>\n      <td>Not Applicable</td>\n      <td>Not Applicable</td>\n      <td>xDrive35i</td>\n      <td>5UXWX7C5*BA</td>\n      <td>MULTIPURPOSE PASSENGER VEHICLE (MPV)</td>\n    </tr>\n  </tbody>\n</table>\n<p>2 rows × 27 columns</p>\n</div>"
     },
     "metadata": {},
     "execution_count": 32
    }
   ],
   "source": [
    "vehicles.get_df()"
   ]
  },
  {
   "source": [
    "# WMI Methods\n",
    "The NHTSA Vehicle API supports wmi decoding "
   ],
   "cell_type": "markdown",
   "metadata": {}
  },
  {
   "source": [
    "## WMI Decoding\n",
    "\n",
    "#### pvaw.decode_wmi(wmi)\n",
    "\n",
    "Parameters: wmi: str of length 3 representing VIN position 1-3 (e.g. \"1FD\") or 6 representing VIN positions 1-3 & 12-14 (e.g. \"1G9340\")\n",
    "\n",
    "Returns: WMIInfo object with information on wmi"
   ],
   "cell_type": "markdown",
   "metadata": {}
  },
  {
   "cell_type": "code",
   "execution_count": 33,
   "metadata": {},
   "outputs": [
    {
     "output_type": "execute_result",
     "data": {
      "text/plain": [
       "<pvaw.wmi.WMIInfo at 0x11bbd9ac8>"
      ],
      "text/html": "WMIInfo:\n<table><tr><th>Attribute</th><th>Value</th></tr><tr><td>wmi</td><td>JTL</td></tr>\n<tr><td>manufacturer</td><td>TOYOTA MOTOR NORTH AMERICA, INC</td></tr>\n<tr><td>vehicle_type</td><td>Multipurpose Passenger Vehicle (MPV)</td></tr></table>"
     },
     "metadata": {},
     "execution_count": 33
    }
   ],
   "source": [
    "wmi_info = pv.decode_wmi(\"JTL\")\n",
    "wmi_info"
   ]
  },
  {
   "source": [
    "Getting JSON Results"
   ],
   "cell_type": "markdown",
   "metadata": {}
  },
  {
   "cell_type": "code",
   "execution_count": 34,
   "metadata": {},
   "outputs": [
    {
     "output_type": "execute_result",
     "data": {
      "text/plain": [
       "{'CommonName': 'Toyota',\n",
       " 'CreatedOn': '2015-05-04',\n",
       " 'DateAvailableToPublic': '2015-01-01',\n",
       " 'Make': 'TOYOTA',\n",
       " 'ManufacturerName': 'TOYOTA MOTOR NORTH AMERICA, INC',\n",
       " 'ParentCompanyName': 'TOYOTA MOTOR CORPORATION',\n",
       " 'URL': 'http://www.toyota.com',\n",
       " 'UpdatedOn': None,\n",
       " 'VehicleType': 'Multipurpose Passenger Vehicle (MPV)',\n",
       " 'WMI': 'JTL'}"
      ]
     },
     "metadata": {},
     "execution_count": 34
    }
   ],
   "source": [
    "wmi_info.get_results()"
   ]
  },
  {
   "source": [
    "Getting DataFrame"
   ],
   "cell_type": "markdown",
   "metadata": {}
  },
  {
   "cell_type": "code",
   "execution_count": 35,
   "metadata": {},
   "outputs": [
    {
     "output_type": "execute_result",
     "data": {
      "text/plain": [
       "    CommonName   CreatedOn DateAvailableToPublic    Make  \\\n",
       "JTL     Toyota  2015-05-04            2015-01-01  TOYOTA   \n",
       "\n",
       "                    ManufacturerName         ParentCompanyName  \\\n",
       "JTL  TOYOTA MOTOR NORTH AMERICA, INC  TOYOTA MOTOR CORPORATION   \n",
       "\n",
       "                       URL                           VehicleType  WMI  \n",
       "JTL  http://www.toyota.com  Multipurpose Passenger Vehicle (MPV)  JTL  "
      ],
      "text/html": "<div>\n<style scoped>\n    .dataframe tbody tr th:only-of-type {\n        vertical-align: middle;\n    }\n\n    .dataframe tbody tr th {\n        vertical-align: top;\n    }\n\n    .dataframe thead th {\n        text-align: right;\n    }\n</style>\n<table border=\"1\" class=\"dataframe\">\n  <thead>\n    <tr style=\"text-align: right;\">\n      <th></th>\n      <th>CommonName</th>\n      <th>CreatedOn</th>\n      <th>DateAvailableToPublic</th>\n      <th>Make</th>\n      <th>ManufacturerName</th>\n      <th>ParentCompanyName</th>\n      <th>URL</th>\n      <th>VehicleType</th>\n      <th>WMI</th>\n    </tr>\n  </thead>\n  <tbody>\n    <tr>\n      <th>JTL</th>\n      <td>Toyota</td>\n      <td>2015-05-04</td>\n      <td>2015-01-01</td>\n      <td>TOYOTA</td>\n      <td>TOYOTA MOTOR NORTH AMERICA, INC</td>\n      <td>TOYOTA MOTOR CORPORATION</td>\n      <td>http://www.toyota.com</td>\n      <td>Multipurpose Passenger Vehicle (MPV)</td>\n      <td>JTL</td>\n    </tr>\n  </tbody>\n</table>\n</div>"
     },
     "metadata": {},
     "execution_count": 35
    }
   ],
   "source": [
    "wmi_info.get_df()"
   ]
  },
  {
   "source": [
    "## Finding WMIs by Manufacturer\n",
    "#### pvaw.get_wmis(manufacturer_search)\n",
    "Parameters: manufacturer_search: a str representing part or all of the name of a Manufacturer (e.g. \"Honda\")\n",
    "\n",
    "Returns: ResultsList object which stores a list of WMIInfo objects"
   ],
   "cell_type": "markdown",
   "metadata": {}
  },
  {
   "cell_type": "code",
   "execution_count": 36,
   "metadata": {},
   "outputs": [
    {
     "output_type": "execute_result",
     "data": {
      "text/plain": [
       "<pvaw.results.ResultsList at 0x11bbe24e0>"
      ],
      "text/html": "[WMIInfo:\n<table><tr><th>Attribute</th><th>Value</th></tr><tr><td>wmi</td><td>5YJ</td></tr>\n<tr><td>manufacturer</td><td>TESLA, INC.</td></tr>\n<tr><td>vehicle_type</td><td>Passenger Car</td></tr></table>,\n WMIInfo:\n<table><tr><th>Attribute</th><th>Value</th></tr><tr><td>wmi</td><td>SFZ</td></tr>\n<tr><td>manufacturer</td><td>TESLA, INC.</td></tr>\n<tr><td>vehicle_type</td><td>Passenger Car</td></tr></table>]"
     },
     "metadata": {},
     "execution_count": 36
    }
   ],
   "source": [
    "wmi_infos = pv.get_wmis(\"Tesla\")\n",
    "wmi_infos"
   ]
  },
  {
   "source": [
    "### Accessing Each WMI"
   ],
   "cell_type": "markdown",
   "metadata": {}
  },
  {
   "cell_type": "code",
   "execution_count": 37,
   "metadata": {},
   "outputs": [
    {
     "output_type": "display_data",
     "data": {
      "text/plain": "<pvaw.wmi.WMIInfo at 0x11bbe25f8>",
      "text/html": "WMIInfo:\n<table><tr><th>Attribute</th><th>Value</th></tr><tr><td>wmi</td><td>5YJ</td></tr>\n<tr><td>manufacturer</td><td>TESLA, INC.</td></tr>\n<tr><td>vehicle_type</td><td>Passenger Car</td></tr></table>"
     },
     "metadata": {}
    },
    {
     "output_type": "display_data",
     "data": {
      "text/plain": "<pvaw.wmi.WMIInfo at 0x11bbe2b38>",
      "text/html": "WMIInfo:\n<table><tr><th>Attribute</th><th>Value</th></tr><tr><td>wmi</td><td>SFZ</td></tr>\n<tr><td>manufacturer</td><td>TESLA, INC.</td></tr>\n<tr><td>vehicle_type</td><td>Passenger Car</td></tr></table>"
     },
     "metadata": {}
    }
   ],
   "source": [
    "# Iterating through vehicles\n",
    "for wmi_info in wmi_infos:\n",
    "    display(wmi_info)\n",
    "\n",
    "# Indexing Vehicles\n",
    "first = wmi_infos[0]\n",
    "last = wmi_infos[len(vehicles) - 1]"
   ]
  },
  {
   "source": [
    "Getting JSON Results"
   ],
   "cell_type": "markdown",
   "metadata": {}
  },
  {
   "cell_type": "code",
   "execution_count": 38,
   "metadata": {},
   "outputs": [
    {
     "output_type": "execute_result",
     "data": {
      "text/plain": [
       "[{'Country': 'UNITED STATES (USA)',\n",
       "  'CreatedOn': '2015-03-04',\n",
       "  'DateAvailableToPublic': '2015-01-01',\n",
       "  'Id': 955,\n",
       "  'Name': 'TESLA, INC.',\n",
       "  'UpdatedOn': None,\n",
       "  'VehicleType': 'Passenger Car',\n",
       "  'WMI': '5YJ'},\n",
       " {'Country': 'UNITED STATES (USA)',\n",
       "  'CreatedOn': '2015-04-16',\n",
       "  'DateAvailableToPublic': '2015-01-01',\n",
       "  'Id': 955,\n",
       "  'Name': 'TESLA, INC.',\n",
       "  'UpdatedOn': None,\n",
       "  'VehicleType': 'Passenger Car',\n",
       "  'WMI': 'SFZ'}]"
      ]
     },
     "metadata": {},
     "execution_count": 38
    }
   ],
   "source": [
    "wmi_infos.get_results()"
   ]
  },
  {
   "source": [
    "Getting DataFrame"
   ],
   "cell_type": "markdown",
   "metadata": {}
  },
  {
   "cell_type": "code",
   "execution_count": 39,
   "metadata": {},
   "outputs": [
    {
     "output_type": "execute_result",
     "data": {
      "text/plain": [
       "                 Country   CreatedOn DateAvailableToPublic   Id         Name  \\\n",
       "5YJ  UNITED STATES (USA)  2015-03-04            2015-01-01  955  TESLA, INC.   \n",
       "SFZ  UNITED STATES (USA)  2015-04-16            2015-01-01  955  TESLA, INC.   \n",
       "\n",
       "       VehicleType  WMI  \n",
       "5YJ  Passenger Car  5YJ  \n",
       "SFZ  Passenger Car  SFZ  "
      ],
      "text/html": "<div>\n<style scoped>\n    .dataframe tbody tr th:only-of-type {\n        vertical-align: middle;\n    }\n\n    .dataframe tbody tr th {\n        vertical-align: top;\n    }\n\n    .dataframe thead th {\n        text-align: right;\n    }\n</style>\n<table border=\"1\" class=\"dataframe\">\n  <thead>\n    <tr style=\"text-align: right;\">\n      <th></th>\n      <th>Country</th>\n      <th>CreatedOn</th>\n      <th>DateAvailableToPublic</th>\n      <th>Id</th>\n      <th>Name</th>\n      <th>VehicleType</th>\n      <th>WMI</th>\n    </tr>\n  </thead>\n  <tbody>\n    <tr>\n      <th>5YJ</th>\n      <td>UNITED STATES (USA)</td>\n      <td>2015-03-04</td>\n      <td>2015-01-01</td>\n      <td>955</td>\n      <td>TESLA, INC.</td>\n      <td>Passenger Car</td>\n      <td>5YJ</td>\n    </tr>\n    <tr>\n      <th>SFZ</th>\n      <td>UNITED STATES (USA)</td>\n      <td>2015-04-16</td>\n      <td>2015-01-01</td>\n      <td>955</td>\n      <td>TESLA, INC.</td>\n      <td>Passenger Car</td>\n      <td>SFZ</td>\n    </tr>\n  </tbody>\n</table>\n</div>"
     },
     "metadata": {},
     "execution_count": 39
    }
   ],
   "source": [
    "wmi_infos.get_df()"
   ]
  },
  {
   "source": [
    "## Make Methods\n",
    "## Finding Makes by Manufacturer and Year or Vehicle Type\n",
    "#### pvaw.get_makes(manufacturer_name_or_id=None, model_year=None, vehicle_type=None)\n",
    "Parameters: manufacturer_name_or_id: a str representing part or all of the name of a manufacturer (e.g. \"Honda\") or an integer representing the manufacturer ID\n",
    "\n",
    "model_year: a str or int representing the year makes must exist in (e.g. 2005)\n",
    "\n",
    "vehicle_type: a str representing the type of vehicle that a make produces (e.g. \"car\")\n",
    "\n",
    "**NOTE**: For this method, you can filter either by manufacturer_name_or_id or by vehicle_type, you cannot filter by both. Additionally, model_year can be passed in with manufacturer_name_or_id, but not with vehicle_type.\n",
    "\n",
    "Returns: ResultsList object which stores a list of Make objects"
   ],
   "cell_type": "markdown",
   "metadata": {}
  },
  {
   "cell_type": "code",
   "execution_count": 40,
   "metadata": {},
   "outputs": [],
   "source": [
    "# getting makes for manufacturer name search\n",
    "makes = pv.get_makes(\"hyundai\")\n",
    "\n",
    "# getting makes for manufacturer name search and model year\n",
    "makes_2 = pv.get_makes(\"tesla\", 2020)\n",
    "\n",
    "# getting makes for manufacturer ID and model year\n",
    "makes_3 = pv.get_makes(988, 2005)\n",
    "\n",
    "# getting makes by vehicle_type search\n",
    "makes_4 = pv.get_makes(vehicle_type=\"car\")"
   ]
  },
  {
   "cell_type": "code",
   "execution_count": 41,
   "metadata": {},
   "outputs": [
    {
     "output_type": "execute_result",
     "data": {
      "text/plain": [
       "<pvaw.results.ResultsList at 0x11bb87128>"
      ],
      "text/html": "[Make:\n<table><tr><th>Attribute</th><th>Value</th></tr><tr><td>make_id</td><td>474</td></tr>\n<tr><td>make_name</td><td>HONDA</td></tr>\n<tr><td>manufacturer</td><td>HONDA OF AMERICA MFG., INC.</td></tr>\n<tr><td>vehicle_type</td><td>None</td></tr></table>,\n Make:\n<table><tr><th>Attribute</th><th>Value</th></tr><tr><td>make_id</td><td>475</td></tr>\n<tr><td>make_name</td><td>ACURA</td></tr>\n<tr><td>manufacturer</td><td>HONDA OF AMERICA MFG., INC.</td></tr>\n<tr><td>vehicle_type</td><td>None</td></tr></table>]"
     },
     "metadata": {},
     "execution_count": 41
    }
   ],
   "source": [
    "# displaying makes\n",
    "makes_3"
   ]
  },
  {
   "source": [
    "### Accessing Each Make"
   ],
   "cell_type": "markdown",
   "metadata": {}
  },
  {
   "cell_type": "code",
   "execution_count": 42,
   "metadata": {},
   "outputs": [
    {
     "output_type": "display_data",
     "data": {
      "text/plain": "<pvaw.make.Make at 0x11bb87710>",
      "text/html": "Make:\n<table><tr><th>Attribute</th><th>Value</th></tr><tr><td>make_id</td><td>474</td></tr>\n<tr><td>make_name</td><td>HONDA</td></tr>\n<tr><td>manufacturer</td><td>HONDA OF AMERICA MFG., INC.</td></tr>\n<tr><td>vehicle_type</td><td>None</td></tr></table>"
     },
     "metadata": {}
    },
    {
     "output_type": "display_data",
     "data": {
      "text/plain": "<pvaw.make.Make at 0x11bb876d8>",
      "text/html": "Make:\n<table><tr><th>Attribute</th><th>Value</th></tr><tr><td>make_id</td><td>475</td></tr>\n<tr><td>make_name</td><td>ACURA</td></tr>\n<tr><td>manufacturer</td><td>HONDA OF AMERICA MFG., INC.</td></tr>\n<tr><td>vehicle_type</td><td>None</td></tr></table>"
     },
     "metadata": {}
    }
   ],
   "source": [
    "# Iterating through makes\n",
    "for m in makes_3:\n",
    "    display(m)\n",
    "\n",
    "# Indexing makes\n",
    "first = makes_3[0]\n",
    "last = makes_3[len(makes_3) - 1]"
   ]
  },
  {
   "source": [
    "Getting JSON Results"
   ],
   "cell_type": "markdown",
   "metadata": {}
  },
  {
   "cell_type": "code",
   "execution_count": 51,
   "metadata": {},
   "outputs": [
    {
     "output_type": "execute_result",
     "data": {
      "text/plain": [
       "[{'MakeId': 474,\n",
       "  'MakeName': 'HONDA',\n",
       "  'MfrId': 988,\n",
       "  'MfrName': 'HONDA OF AMERICA MFG., INC.'},\n",
       " {'MakeId': 475,\n",
       "  'MakeName': 'ACURA',\n",
       "  'MfrId': 988,\n",
       "  'MfrName': 'HONDA OF AMERICA MFG., INC.'}]"
      ]
     },
     "metadata": {},
     "execution_count": 51
    }
   ],
   "source": [
    "makes_3.get_results()"
   ]
  },
  {
   "source": [
    "Getting DataFrame"
   ],
   "cell_type": "markdown",
   "metadata": {}
  },
  {
   "cell_type": "code",
   "execution_count": 53,
   "metadata": {},
   "outputs": [
    {
     "output_type": "execute_result",
     "data": {
      "text/plain": [
       "                                MakeId MakeName MfrId  \\\n",
       "474-HONDA OF AMERICA MFG., INC.    474    HONDA   988   \n",
       "475-HONDA OF AMERICA MFG., INC.    475    ACURA   988   \n",
       "\n",
       "                                                     MfrName  \n",
       "474-HONDA OF AMERICA MFG., INC.  HONDA OF AMERICA MFG., INC.  \n",
       "475-HONDA OF AMERICA MFG., INC.  HONDA OF AMERICA MFG., INC.  "
      ],
      "text/html": "<div>\n<style scoped>\n    .dataframe tbody tr th:only-of-type {\n        vertical-align: middle;\n    }\n\n    .dataframe tbody tr th {\n        vertical-align: top;\n    }\n\n    .dataframe thead th {\n        text-align: right;\n    }\n</style>\n<table border=\"1\" class=\"dataframe\">\n  <thead>\n    <tr style=\"text-align: right;\">\n      <th></th>\n      <th>MakeId</th>\n      <th>MakeName</th>\n      <th>MfrId</th>\n      <th>MfrName</th>\n    </tr>\n  </thead>\n  <tbody>\n    <tr>\n      <th>474-HONDA OF AMERICA MFG., INC.</th>\n      <td>474</td>\n      <td>HONDA</td>\n      <td>988</td>\n      <td>HONDA OF AMERICA MFG., INC.</td>\n    </tr>\n    <tr>\n      <th>475-HONDA OF AMERICA MFG., INC.</th>\n      <td>475</td>\n      <td>ACURA</td>\n      <td>988</td>\n      <td>HONDA OF AMERICA MFG., INC.</td>\n    </tr>\n  </tbody>\n</table>\n</div>"
     },
     "metadata": {},
     "execution_count": 53
    }
   ],
   "source": [
    "makes_3.get_df()"
   ]
  },
  {
   "source": [
    "# Manufacturer Methods"
   ],
   "cell_type": "markdown",
   "metadata": {}
  },
  {
   "source": [
    "## Getting Manufacturers\n",
    "#### pvaw.get_manufacturers(m_type=None, page=1)\n",
    "Parameters: m_type: a str representing part or all of the manufacturer type (e.g. \"Intermediate\")\n",
    "\n",
    "page: int representing the api page number. Each page returns 100 manufacturers\n",
    "\n",
    "Returns: ResultsList object which stores a list of Manufacturer objects"
   ],
   "cell_type": "markdown",
   "metadata": {}
  },
  {
   "cell_type": "code",
   "execution_count": 28,
   "metadata": {},
   "outputs": [],
   "source": [
    "# getting manufacturers by api page number\n",
    "manufacturers = pv.get_manufacturers(page=5)\n",
    "\n",
    "# getting manufacturers by manufacturer type\n",
    "manufacturers_2 = pv.get_manufacturers(m_type=\"complete\", page=1)"
   ]
  },
  {
   "source": [
    "## Searching for Specific Manufacturers\n",
    "#### pvaw.get_manufacturer_details(manufacturer_name_or_id)\n",
    "Parameters: manufacturer_name_or_id: a str representing manufacturer name or an int representing the manufacturer ID\n",
    "\n",
    "Returns: ResultsList object which stores a list of Manufacturer objects matching the manufacturer search"
   ],
   "cell_type": "markdown",
   "metadata": {}
  },
  {
   "cell_type": "code",
   "execution_count": null,
   "metadata": {},
   "outputs": [],
   "source": [
    "# getting manufacturer(s) from manufacturer name search\n",
    "manufacturers_3 = pv.get_manufacturer_details(\"Toyota\")\n",
    "\n",
    "# getting manufacturer from manufacturter id\n",
    "manufacturers_4 = pv.get_manufacturer_details(988)"
   ]
  },
  {
   "source": [
    "### Accessing each Manufacturer"
   ],
   "cell_type": "markdown",
   "metadata": {}
  },
  {
   "cell_type": "code",
   "execution_count": 27,
   "metadata": {},
   "outputs": [
    {
     "output_type": "display_data",
     "data": {
      "text/plain": "<pvaw.manufacturer.Manufacturer at 0x115c1f898>",
      "text/html": "Manufacturer:\n<table><tr><th>Attribute</th><th>Value</th></tr><tr><td>id</td><td>1387</td></tr>\n<tr><td>common_name</td><td>None</td></tr>\n<tr><td>name</td><td>WOOPYONG MOTOR WHEEL LTD</td></tr>\n<tr><td>vehicle_types</td><td>[]</td></tr></table>"
     },
     "metadata": {}
    },
    {
     "output_type": "display_data",
     "data": {
      "text/plain": "<pvaw.manufacturer.Manufacturer at 0x115c04748>",
      "text/html": "Manufacturer:\n<table><tr><th>Attribute</th><th>Value</th></tr><tr><td>id</td><td>1388</td></tr>\n<tr><td>common_name</td><td>None</td></tr>\n<tr><td>name</td><td>WORCESTER TANK & EQUIPMENT CO., INC</td></tr>\n<tr><td>vehicle_types</td><td>[]</td></tr></table>"
     },
     "metadata": {}
    },
    {
     "output_type": "display_data",
     "data": {
      "text/plain": "<pvaw.manufacturer.Manufacturer at 0x115c533c8>",
      "text/html": "Manufacturer:\n<table><tr><th>Attribute</th><th>Value</th></tr><tr><td>id</td><td>1389</td></tr>\n<tr><td>common_name</td><td>None</td></tr>\n<tr><td>name</td><td>WORCESTER WHITE AUTOCAR, INC.</td></tr>\n<tr><td>vehicle_types</td><td>[]</td></tr></table>"
     },
     "metadata": {}
    },
    {
     "output_type": "display_data",
     "data": {
      "text/plain": "<pvaw.manufacturer.Manufacturer at 0x115c53400>",
      "text/html": "Manufacturer:\n<table><tr><th>Attribute</th><th>Value</th></tr><tr><td>id</td><td>1390</td></tr>\n<tr><td>common_name</td><td>None</td></tr>\n<tr><td>name</td><td>WORKBENCH, INC.</td></tr>\n<tr><td>vehicle_types</td><td>['Trailer']</td></tr></table>"
     },
     "metadata": {}
    }
   ],
   "source": [
    "# Iterating through manufacturers\n",
    "for m in manufacturers[:4]:\n",
    "    display(m)\n",
    "\n",
    "# Indexing manufacturers\n",
    "first = manufacturers[0]\n",
    "last = manufacturers[len(manufacturers) - 1]"
   ]
  },
  {
   "source": [
    "Getting JSON Results"
   ],
   "cell_type": "markdown",
   "metadata": {}
  },
  {
   "cell_type": "code",
   "execution_count": 47,
   "metadata": {},
   "outputs": [
    {
     "output_type": "execute_result",
     "data": {
      "text/plain": [
       "[{'Country': '',\n",
       "  'Mfr_CommonName': None,\n",
       "  'Mfr_ID': 1387,\n",
       "  'Mfr_Name': 'WOOPYONG MOTOR WHEEL LTD',\n",
       "  'VehicleTypes': []},\n",
       " {'Country': 'UNITED STATES (USA)',\n",
       "  'Mfr_CommonName': None,\n",
       "  'Mfr_ID': 1388,\n",
       "  'Mfr_Name': 'WORCESTER TANK & EQUIPMENT CO., INC',\n",
       "  'VehicleTypes': []},\n",
       " {'Country': 'UNITED STATES (USA)',\n",
       "  'Mfr_CommonName': None,\n",
       "  'Mfr_ID': 1389,\n",
       "  'Mfr_Name': 'WORCESTER WHITE AUTOCAR, INC.',\n",
       "  'VehicleTypes': []},\n",
       " {'Country': 'UNITED STATES (USA)',\n",
       "  'Mfr_CommonName': None,\n",
       "  'Mfr_ID': 1390,\n",
       "  'Mfr_Name': 'WORKBENCH, INC.',\n",
       "  'VehicleTypes': [{'IsPrimary': False, 'Name': 'Trailer'}]},\n",
       " {'Country': 'UNITED STATES (USA)',\n",
       "  'Mfr_CommonName': None,\n",
       "  'Mfr_ID': 1391,\n",
       "  'Mfr_Name': 'U-SCREEN U.S.A., INC.',\n",
       "  'VehicleTypes': [{'IsPrimary': False, 'Name': 'Trailer'}]},\n",
       " {'Country': 'UNITED STATES (USA)',\n",
       "  'Mfr_CommonName': None,\n",
       "  'Mfr_ID': 1392,\n",
       "  'Mfr_Name': 'L AND T MANUFACTURING, LLC',\n",
       "  'VehicleTypes': [{'IsPrimary': True, 'Name': 'Trailer'}]},\n",
       " {'Country': 'UNITED STATES (USA)',\n",
       "  'Mfr_CommonName': None,\n",
       "  'Mfr_ID': 1393,\n",
       "  'Mfr_Name': 'DAUNTLESS MOTORS CORPORATION',\n",
       "  'VehicleTypes': [{'IsPrimary': True, 'Name': 'Trailer'}]},\n",
       " {'Country': 'UNITED STATES (USA)',\n",
       "  'Mfr_CommonName': None,\n",
       "  'Mfr_ID': 1394,\n",
       "  'Mfr_Name': 'RAPSURE CONCESSION TRAILERS, INC.',\n",
       "  'VehicleTypes': [{'IsPrimary': True, 'Name': 'Trailer'}]},\n",
       " {'Country': 'UNITED STATES (USA)',\n",
       "  'Mfr_CommonName': None,\n",
       "  'Mfr_ID': 1395,\n",
       "  'Mfr_Name': 'SHADOW TRAILERS, INC.',\n",
       "  'VehicleTypes': [{'IsPrimary': True, 'Name': 'Trailer'}]},\n",
       " {'Country': 'UNITED STATES (USA)',\n",
       "  'Mfr_CommonName': None,\n",
       "  'Mfr_ID': 1396,\n",
       "  'Mfr_Name': 'HEISLER BOATS',\n",
       "  'VehicleTypes': []},\n",
       " {'Country': 'UNITED STATES (USA)',\n",
       "  'Mfr_CommonName': None,\n",
       "  'Mfr_ID': 1397,\n",
       "  'Mfr_Name': 'INDUSTRIAL TRAILER MANUFACTURING, INC.',\n",
       "  'VehicleTypes': []},\n",
       " {'Country': 'UNITED STATES (USA)',\n",
       "  'Mfr_CommonName': None,\n",
       "  'Mfr_ID': 1398,\n",
       "  'Mfr_Name': 'CUSTOM TRAILER WORKS LLC',\n",
       "  'VehicleTypes': []},\n",
       " {'Country': 'UNITED STATES (USA)',\n",
       "  'Mfr_CommonName': None,\n",
       "  'Mfr_ID': 1399,\n",
       "  'Mfr_Name': 'THULE TRAILERS, INC.',\n",
       "  'VehicleTypes': []},\n",
       " {'Country': 'UNITED STATES (USA)',\n",
       "  'Mfr_CommonName': None,\n",
       "  'Mfr_ID': 1400,\n",
       "  'Mfr_Name': 'ASPHALT EQUIPMENT & SERVICE CO.',\n",
       "  'VehicleTypes': []},\n",
       " {'Country': 'UNITED STATES (USA)',\n",
       "  'Mfr_CommonName': None,\n",
       "  'Mfr_ID': 1401,\n",
       "  'Mfr_Name': 'POWERSECURE INC.',\n",
       "  'VehicleTypes': []},\n",
       " {'Country': 'UNITED STATES (USA)',\n",
       "  'Mfr_CommonName': None,\n",
       "  'Mfr_ID': 1402,\n",
       "  'Mfr_Name': 'E. T. & T. ENTERPRISES dba HOLLAND METAL FAB., INC',\n",
       "  'VehicleTypes': [{'IsPrimary': False, 'Name': 'Trailer'}]},\n",
       " {'Country': 'UNITED STATES (USA)',\n",
       "  'Mfr_CommonName': None,\n",
       "  'Mfr_ID': 1403,\n",
       "  'Mfr_Name': 'SPENCER BOWMAN CUSTOMS',\n",
       "  'VehicleTypes': []},\n",
       " {'Country': 'UNITED STATES (USA)',\n",
       "  'Mfr_CommonName': None,\n",
       "  'Mfr_ID': 1404,\n",
       "  'Mfr_Name': 'GREEN VALLEY PRODUCTS',\n",
       "  'VehicleTypes': [{'IsPrimary': False, 'Name': 'Trailer'}]},\n",
       " {'Country': 'UNITED STATES (USA)',\n",
       "  'Mfr_CommonName': None,\n",
       "  'Mfr_ID': 1405,\n",
       "  'Mfr_Name': \"D'S FIBERGLASS\",\n",
       "  'VehicleTypes': [{'IsPrimary': True, 'Name': 'Trailer'}]},\n",
       " {'Country': 'UNITED STATES (USA)',\n",
       "  'Mfr_CommonName': None,\n",
       "  'Mfr_ID': 1406,\n",
       "  'Mfr_Name': 'CHRISTIANSON SYSTEMS, INC.',\n",
       "  'VehicleTypes': []},\n",
       " {'Country': 'CANADA',\n",
       "  'Mfr_CommonName': None,\n",
       "  'Mfr_ID': 1407,\n",
       "  'Mfr_Name': 'CONVEY-ALL INDUSTRIES INC.',\n",
       "  'VehicleTypes': [{'IsPrimary': True, 'Name': 'Trailer'}]},\n",
       " {'Country': 'UNITED STATES (USA)',\n",
       "  'Mfr_CommonName': None,\n",
       "  'Mfr_ID': 1408,\n",
       "  'Mfr_Name': 'CENTENNIAL WELDING, INC.',\n",
       "  'VehicleTypes': []},\n",
       " {'Country': 'UNITED STATES (USA)',\n",
       "  'Mfr_CommonName': None,\n",
       "  'Mfr_ID': 1409,\n",
       "  'Mfr_Name': 'COAST 2 COAST CHOPPERS',\n",
       "  'VehicleTypes': [{'IsPrimary': True, 'Name': 'Motorcycle'}]},\n",
       " {'Country': '',\n",
       "  'Mfr_CommonName': None,\n",
       "  'Mfr_ID': 1410,\n",
       "  'Mfr_Name': 'SIGNALISATION VER-MAC INC.',\n",
       "  'VehicleTypes': [{'IsPrimary': False, 'Name': 'Trailer'}]},\n",
       " {'Country': 'UNITED STATES (USA)',\n",
       "  'Mfr_CommonName': None,\n",
       "  'Mfr_ID': 1411,\n",
       "  'Mfr_Name': 'EIGHT MILE CHOPPERS',\n",
       "  'VehicleTypes': [{'IsPrimary': False, 'Name': 'Motorcycle'}]},\n",
       " {'Country': 'UNITED STATES (USA)',\n",
       "  'Mfr_CommonName': None,\n",
       "  'Mfr_ID': 1412,\n",
       "  'Mfr_Name': 'OUTKAST KUSTOM CYCLES, INC.',\n",
       "  'VehicleTypes': []},\n",
       " {'Country': 'UNITED STATES (USA)',\n",
       "  'Mfr_CommonName': None,\n",
       "  'Mfr_ID': 1413,\n",
       "  'Mfr_Name': 'EAGLE TRAILERS MFG',\n",
       "  'VehicleTypes': [{'IsPrimary': False, 'Name': 'Trailer'}]},\n",
       " {'Country': 'UNITED STATES (USA)',\n",
       "  'Mfr_CommonName': None,\n",
       "  'Mfr_ID': 1414,\n",
       "  'Mfr_Name': 'BRIDGEVILLE TRAILERS, INC.',\n",
       "  'VehicleTypes': [{'IsPrimary': True, 'Name': 'Trailer'}]},\n",
       " {'Country': 'UNITED STATES (USA)',\n",
       "  'Mfr_CommonName': None,\n",
       "  'Mfr_ID': 1415,\n",
       "  'Mfr_Name': 'MOTORCYCLE MACHINE SHOP SERVICES LLC',\n",
       "  'VehicleTypes': []},\n",
       " {'Country': 'UNITED STATES (USA)',\n",
       "  'Mfr_CommonName': None,\n",
       "  'Mfr_ID': 1416,\n",
       "  'Mfr_Name': 'CHOPPER DESIGNS',\n",
       "  'VehicleTypes': []},\n",
       " {'Country': 'UNITED STATES (USA)',\n",
       "  'Mfr_CommonName': None,\n",
       "  'Mfr_ID': 1417,\n",
       "  'Mfr_Name': 'AMERICAN TRAILERS',\n",
       "  'VehicleTypes': []},\n",
       " {'Country': 'UNITED STATES (USA)',\n",
       "  'Mfr_CommonName': None,\n",
       "  'Mfr_ID': 1418,\n",
       "  'Mfr_Name': 'K.C. METAL WORKS LLC.',\n",
       "  'VehicleTypes': [{'IsPrimary': True, 'Name': 'Trailer'}]},\n",
       " {'Country': 'UNITED STATES (USA)',\n",
       "  'Mfr_CommonName': None,\n",
       "  'Mfr_ID': 1419,\n",
       "  'Mfr_Name': 'MESKE WELDING LLC',\n",
       "  'VehicleTypes': []},\n",
       " {'Country': 'UNITED STATES (USA)',\n",
       "  'Mfr_CommonName': None,\n",
       "  'Mfr_ID': 1420,\n",
       "  'Mfr_Name': 'GABRIEL VILLESCAS WEST MESA CHOPPERS',\n",
       "  'VehicleTypes': [{'IsPrimary': True, 'Name': 'Motorcycle'}]},\n",
       " {'Country': 'UNITED STATES (USA)',\n",
       "  'Mfr_CommonName': None,\n",
       "  'Mfr_ID': 1421,\n",
       "  'Mfr_Name': 'COWBOY TRADING COMPANY INC. aka Cowboy Custom Chop',\n",
       "  'VehicleTypes': []},\n",
       " {'Country': 'UNITED STATES (USA)',\n",
       "  'Mfr_CommonName': None,\n",
       "  'Mfr_ID': 1422,\n",
       "  'Mfr_Name': 'BLUE HEN, LLC',\n",
       "  'VehicleTypes': []},\n",
       " {'Country': 'UNITED STATES (USA)',\n",
       "  'Mfr_CommonName': None,\n",
       "  'Mfr_ID': 1423,\n",
       "  'Mfr_Name': 'TDS DISPOSAL SERVICES LLC',\n",
       "  'VehicleTypes': []},\n",
       " {'Country': '',\n",
       "  'Mfr_CommonName': None,\n",
       "  'Mfr_ID': 1424,\n",
       "  'Mfr_Name': 'JRW TRAILERS, INC. dba WALTON AND BYSON TRAILERS',\n",
       "  'VehicleTypes': []},\n",
       " {'Country': 'UNITED STATES (USA)',\n",
       "  'Mfr_CommonName': None,\n",
       "  'Mfr_ID': 1425,\n",
       "  'Mfr_Name': 'TARGET TRAILER MFG., CO.',\n",
       "  'VehicleTypes': [{'IsPrimary': False, 'Name': 'Trailer'}]},\n",
       " {'Country': 'UNITED STATES (USA)',\n",
       "  'Mfr_CommonName': None,\n",
       "  'Mfr_ID': 1426,\n",
       "  'Mfr_Name': 'BROWN WELDING SHOP, INC.',\n",
       "  'VehicleTypes': []},\n",
       " {'Country': 'UNITED STATES (USA)',\n",
       "  'Mfr_CommonName': None,\n",
       "  'Mfr_ID': 1427,\n",
       "  'Mfr_Name': 'TIGER TRUCK, LLC AKA TIGER TRUCK MANUFACTURING, LL',\n",
       "  'VehicleTypes': []},\n",
       " {'Country': 'UNITED STATES (USA)',\n",
       "  'Mfr_CommonName': None,\n",
       "  'Mfr_ID': 1428,\n",
       "  'Mfr_Name': 'WELD-TEK CUSTOM FABRICATION',\n",
       "  'VehicleTypes': [{'IsPrimary': True, 'Name': 'Trailer'}]},\n",
       " {'Country': 'UNITED STATES (USA)',\n",
       "  'Mfr_CommonName': None,\n",
       "  'Mfr_ID': 1429,\n",
       "  'Mfr_Name': 'AMERICAN NATIONAL FLEET SERVICE INC. DBA AMERICAN FLEET SERVICES',\n",
       "  'VehicleTypes': [{'IsPrimary': False, 'Name': 'Truck '}]},\n",
       " {'Country': 'UNITED STATES (USA)',\n",
       "  'Mfr_CommonName': None,\n",
       "  'Mfr_ID': 1430,\n",
       "  'Mfr_Name': 'PAFCO TRUCK BODIES',\n",
       "  'VehicleTypes': [{'IsPrimary': False, 'Name': 'Truck '}]},\n",
       " {'Country': 'UNITED STATES (USA)',\n",
       "  'Mfr_CommonName': None,\n",
       "  'Mfr_ID': 1433,\n",
       "  'Mfr_Name': 'BG AUTOMOTIVE GROUP, LTD.',\n",
       "  'VehicleTypes': [{'IsPrimary': True, 'Name': 'Low Speed Vehicle (LSV)'}]},\n",
       " {'Country': 'UNITED STATES (USA)',\n",
       "  'Mfr_CommonName': None,\n",
       "  'Mfr_ID': 1434,\n",
       "  'Mfr_Name': \"BLING'S CYCLES\",\n",
       "  'VehicleTypes': [{'IsPrimary': True, 'Name': 'Motorcycle'}]},\n",
       " {'Country': 'UNITED STATES (USA)',\n",
       "  'Mfr_CommonName': None,\n",
       "  'Mfr_ID': 1435,\n",
       "  'Mfr_Name': 'TEUTONIA USA LLC',\n",
       "  'VehicleTypes': []},\n",
       " {'Country': 'UNITED STATES (USA)',\n",
       "  'Mfr_CommonName': None,\n",
       "  'Mfr_ID': 1436,\n",
       "  'Mfr_Name': 'WISDOM RIDES',\n",
       "  'VehicleTypes': [{'IsPrimary': True, 'Name': 'Trailer'}]},\n",
       " {'Country': 'UNITED STATES (USA)',\n",
       "  'Mfr_CommonName': None,\n",
       "  'Mfr_ID': 1438,\n",
       "  'Mfr_Name': 'S & B TRAILERS',\n",
       "  'VehicleTypes': [{'IsPrimary': True, 'Name': 'Trailer'}]},\n",
       " {'Country': 'UNITED STATES (USA)',\n",
       "  'Mfr_CommonName': None,\n",
       "  'Mfr_ID': 1439,\n",
       "  'Mfr_Name': 'MINIMOVER, LLC',\n",
       "  'VehicleTypes': [{'IsPrimary': False, 'Name': 'Low Speed Vehicle (LSV)'}]},\n",
       " {'Country': 'UNITED STATES (USA)',\n",
       "  'Mfr_CommonName': None,\n",
       "  'Mfr_ID': 1440,\n",
       "  'Mfr_Name': 'BOULDER ELECTRORIDE, INC.',\n",
       "  'VehicleTypes': [{'IsPrimary': False, 'Name': 'Motorcycle'}]},\n",
       " {'Country': 'UNITED STATES (USA)',\n",
       "  'Mfr_CommonName': None,\n",
       "  'Mfr_ID': 1441,\n",
       "  'Mfr_Name': 'CREST CHEVROLET, INC.',\n",
       "  'VehicleTypes': [{'IsPrimary': False, 'Name': 'Truck '},\n",
       "   {'IsPrimary': False, 'Name': 'Bus'}]},\n",
       " {'Country': 'UNITED STATES (USA)',\n",
       "  'Mfr_CommonName': None,\n",
       "  'Mfr_ID': 1442,\n",
       "  'Mfr_Name': 'UNITED SERVICE ALLIANCE, INC.',\n",
       "  'VehicleTypes': [{'IsPrimary': False, 'Name': 'Trailer'}]},\n",
       " {'Country': 'UNITED STATES (USA)',\n",
       "  'Mfr_CommonName': None,\n",
       "  'Mfr_ID': 1443,\n",
       "  'Mfr_Name': 'WELL DONE EQUIPMENT, LLC',\n",
       "  'VehicleTypes': [{'IsPrimary': False, 'Name': 'Trailer'}]},\n",
       " {'Country': 'UNITED STATES (USA)',\n",
       "  'Mfr_CommonName': None,\n",
       "  'Mfr_ID': 1444,\n",
       "  'Mfr_Name': 'J&M MFG. CO. INC.',\n",
       "  'VehicleTypes': [{'IsPrimary': False, 'Name': 'Trailer'}]},\n",
       " {'Country': 'UNITED STATES (USA)',\n",
       "  'Mfr_CommonName': None,\n",
       "  'Mfr_ID': 1445,\n",
       "  'Mfr_Name': 'VT HACKNEY , INC.',\n",
       "  'VehicleTypes': [{'IsPrimary': False, 'Name': 'Truck '},\n",
       "   {'IsPrimary': False, 'Name': 'Trailer'}]},\n",
       " {'Country': 'UNITED STATES (USA)',\n",
       "  'Mfr_CommonName': None,\n",
       "  'Mfr_ID': 1446,\n",
       "  'Mfr_Name': 'RWN CONTRACTORS',\n",
       "  'VehicleTypes': [{'IsPrimary': True, 'Name': 'Trailer'}]},\n",
       " {'Country': 'UNITED STATES (USA)',\n",
       "  'Mfr_CommonName': None,\n",
       "  'Mfr_ID': 1447,\n",
       "  'Mfr_Name': 'TRANSFORMATRUCKS, LLC',\n",
       "  'VehicleTypes': [{'IsPrimary': False, 'Name': 'Trailer'}]},\n",
       " {'Country': 'UNITED STATES (USA)',\n",
       "  'Mfr_CommonName': None,\n",
       "  'Mfr_ID': 1448,\n",
       "  'Mfr_Name': 'OHIO STEEL INDUSTRIES, INC.',\n",
       "  'VehicleTypes': [{'IsPrimary': True, 'Name': 'Trailer'}]},\n",
       " {'Country': 'UNITED STATES (USA)',\n",
       "  'Mfr_CommonName': None,\n",
       "  'Mfr_ID': 1449,\n",
       "  'Mfr_Name': 'CENTURY TANK & TRAILER',\n",
       "  'VehicleTypes': [{'IsPrimary': True, 'Name': 'Trailer'}]},\n",
       " {'Country': 'UNITED STATES (USA)',\n",
       "  'Mfr_CommonName': None,\n",
       "  'Mfr_ID': 1450,\n",
       "  'Mfr_Name': 'EMK, LLC',\n",
       "  'VehicleTypes': [{'IsPrimary': True, 'Name': 'Trailer'}]},\n",
       " {'Country': 'UNITED STATES (USA)',\n",
       "  'Mfr_CommonName': None,\n",
       "  'Mfr_ID': 1451,\n",
       "  'Mfr_Name': 'TOTAL TRUCK & TRAILER',\n",
       "  'VehicleTypes': [{'IsPrimary': False, 'Name': 'Truck '},\n",
       "   {'IsPrimary': False, 'Name': 'Trailer'},\n",
       "   {'IsPrimary': True, 'Name': 'Multipurpose Passenger Vehicle (MPV)'}]},\n",
       " {'Country': 'UNITED STATES (USA)',\n",
       "  'Mfr_CommonName': None,\n",
       "  'Mfr_ID': 1452,\n",
       "  'Mfr_Name': 'SCEADU DESIGN',\n",
       "  'VehicleTypes': [{'IsPrimary': True, 'Name': 'Motorcycle'}]},\n",
       " {'Country': 'UNITED STATES (USA)',\n",
       "  'Mfr_CommonName': None,\n",
       "  'Mfr_ID': 1453,\n",
       "  'Mfr_Name': 'VAPORCON, LLC',\n",
       "  'VehicleTypes': [{'IsPrimary': True, 'Name': 'Trailer'}]},\n",
       " {'Country': 'UNITED STATES (USA)',\n",
       "  'Mfr_CommonName': None,\n",
       "  'Mfr_ID': 1454,\n",
       "  'Mfr_Name': 'METAL MANSIONS',\n",
       "  'VehicleTypes': [{'IsPrimary': True, 'Name': 'Trailer'}]},\n",
       " {'Country': 'UNITED STATES (USA)',\n",
       "  'Mfr_CommonName': None,\n",
       "  'Mfr_ID': 1455,\n",
       "  'Mfr_Name': 'P.D.Q. METAL FABRICATION, INC.',\n",
       "  'VehicleTypes': [{'IsPrimary': True, 'Name': 'Trailer'}]},\n",
       " {'Country': 'UNITED STATES (USA)',\n",
       "  'Mfr_CommonName': None,\n",
       "  'Mfr_ID': 1456,\n",
       "  'Mfr_Name': 'KEYSTONE OILFIELD FABRICATION, LLC',\n",
       "  'VehicleTypes': [{'IsPrimary': True, 'Name': 'Trailer'}]},\n",
       " {'Country': 'UNITED STATES (USA)',\n",
       "  'Mfr_CommonName': None,\n",
       "  'Mfr_ID': 1457,\n",
       "  'Mfr_Name': 'GRAND ISLAND MANUFACTURING',\n",
       "  'VehicleTypes': [{'IsPrimary': True, 'Name': 'Trailer'}]},\n",
       " {'Country': 'UNITED STATES (USA)',\n",
       "  'Mfr_CommonName': None,\n",
       "  'Mfr_ID': 1458,\n",
       "  'Mfr_Name': 'WALTERS GROUP INC.',\n",
       "  'VehicleTypes': [{'IsPrimary': True, 'Name': 'Trailer'}]},\n",
       " {'Country': 'UNITED STATES (USA)',\n",
       "  'Mfr_CommonName': None,\n",
       "  'Mfr_ID': 1460,\n",
       "  'Mfr_Name': 'LEE TRUCK EQUIPMENT, INC.',\n",
       "  'VehicleTypes': [{'IsPrimary': True, 'Name': 'Truck '}]},\n",
       " {'Country': 'UNITED STATES (USA)',\n",
       "  'Mfr_CommonName': None,\n",
       "  'Mfr_ID': 1462,\n",
       "  'Mfr_Name': 'ROOSTER CUSTOM CYCLES, INC.',\n",
       "  'VehicleTypes': [{'IsPrimary': True, 'Name': 'Motorcycle'}]},\n",
       " {'Country': 'UNITED STATES (USA)',\n",
       "  'Mfr_CommonName': None,\n",
       "  'Mfr_ID': 1463,\n",
       "  'Mfr_Name': 'GREAT PLAINS FABRICATION LLC',\n",
       "  'VehicleTypes': []},\n",
       " {'Country': 'UNITED STATES (USA)',\n",
       "  'Mfr_CommonName': None,\n",
       "  'Mfr_ID': 1464,\n",
       "  'Mfr_Name': 'SPECTOR MANUFACTURING, INC.',\n",
       "  'VehicleTypes': []},\n",
       " {'Country': 'UNITED STATES (USA)',\n",
       "  'Mfr_CommonName': None,\n",
       "  'Mfr_ID': 1465,\n",
       "  'Mfr_Name': 'Trailerweldshop',\n",
       "  'VehicleTypes': [{'IsPrimary': False, 'Name': 'Trailer'}]},\n",
       " {'Country': 'UNITED STATES (USA)',\n",
       "  'Mfr_CommonName': None,\n",
       "  'Mfr_ID': 1466,\n",
       "  'Mfr_Name': 'DUESWAY INC.',\n",
       "  'VehicleTypes': [{'IsPrimary': True, 'Name': 'Trailer'}]},\n",
       " {'Country': 'UNITED STATES (USA)',\n",
       "  'Mfr_CommonName': None,\n",
       "  'Mfr_ID': 1467,\n",
       "  'Mfr_Name': 'LOAD PRO TRAILERS, INC.',\n",
       "  'VehicleTypes': []},\n",
       " {'Country': 'UNITED STATES (USA)',\n",
       "  'Mfr_CommonName': None,\n",
       "  'Mfr_ID': 1468,\n",
       "  'Mfr_Name': 'HELL-BENT CUSTOM CYCLES',\n",
       "  'VehicleTypes': []},\n",
       " {'Country': 'UNITED STATES (USA)',\n",
       "  'Mfr_CommonName': None,\n",
       "  'Mfr_ID': 1469,\n",
       "  'Mfr_Name': 'V. MARONE ENTERPRISES, INC.',\n",
       "  'VehicleTypes': []},\n",
       " {'Country': 'UNITED STATES (USA)',\n",
       "  'Mfr_CommonName': None,\n",
       "  'Mfr_ID': 1470,\n",
       "  'Mfr_Name': 'DAVIS METAL WORKS',\n",
       "  'VehicleTypes': [{'IsPrimary': True, 'Name': 'Trailer'}]},\n",
       " {'Country': 'CHINA',\n",
       "  'Mfr_CommonName': None,\n",
       "  'Mfr_ID': 1471,\n",
       "  'Mfr_Name': 'CHONGQING RATO POWER CO., LTD.',\n",
       "  'VehicleTypes': [{'IsPrimary': False, 'Name': 'Motorcycle'}]},\n",
       " {'Country': 'UNITED STATES (USA)',\n",
       "  'Mfr_CommonName': None,\n",
       "  'Mfr_ID': 1472,\n",
       "  'Mfr_Name': 'EYEBALL ENG.',\n",
       "  'VehicleTypes': [{'IsPrimary': True, 'Name': 'Motorcycle'}]},\n",
       " {'Country': 'UNITED STATES (USA)',\n",
       "  'Mfr_CommonName': None,\n",
       "  'Mfr_ID': 1473,\n",
       "  'Mfr_Name': 'RILEEY FORESTRY EQUIPMENT, LLC',\n",
       "  'VehicleTypes': []},\n",
       " {'Country': 'UNITED STATES (USA)',\n",
       "  'Mfr_CommonName': None,\n",
       "  'Mfr_ID': 1474,\n",
       "  'Mfr_Name': 'EXTREME ROAD & TRAIL',\n",
       "  'VehicleTypes': []},\n",
       " {'Country': 'UNITED STATES (USA)',\n",
       "  'Mfr_CommonName': None,\n",
       "  'Mfr_ID': 1475,\n",
       "  'Mfr_Name': 'HANSON MANUFACTURING INC.',\n",
       "  'VehicleTypes': []},\n",
       " {'Country': 'UNITED STATES (USA)',\n",
       "  'Mfr_CommonName': None,\n",
       "  'Mfr_ID': 1476,\n",
       "  'Mfr_Name': 'TAYLOR-DUNN MANUFACTURING',\n",
       "  'VehicleTypes': []},\n",
       " {'Country': 'UNITED STATES (USA)',\n",
       "  'Mfr_CommonName': None,\n",
       "  'Mfr_ID': 1477,\n",
       "  'Mfr_Name': 'IDENTITY MOTORS MANUFACTURING & ASSEMBLY',\n",
       "  'VehicleTypes': [{'IsPrimary': True, 'Name': 'Motorcycle'}]},\n",
       " {'Country': 'UNITED STATES (USA)',\n",
       "  'Mfr_CommonName': 'Chrysler',\n",
       "  'Mfr_ID': 1478,\n",
       "  'Mfr_Name': 'CHRYSLER GROUP LLC(USA),CHRYSLER CANADA, CHRYSLER DE MEXICO',\n",
       "  'VehicleTypes': []},\n",
       " {'Country': 'ITALY',\n",
       "  'Mfr_CommonName': None,\n",
       "  'Mfr_ID': 1479,\n",
       "  'Mfr_Name': 'TAZZARI GL SPA',\n",
       "  'VehicleTypes': [{'IsPrimary': True, 'Name': 'Low Speed Vehicle (LSV)'}]},\n",
       " {'Country': 'CHINA',\n",
       "  'Mfr_CommonName': None,\n",
       "  'Mfr_ID': 1480,\n",
       "  'Mfr_Name': 'CHANGZHOU CITY WENMING VEHICLE ACCESSORIES FACTORY ',\n",
       "  'VehicleTypes': []},\n",
       " {'Country': 'UNITED STATES (USA)',\n",
       "  'Mfr_CommonName': None,\n",
       "  'Mfr_ID': 1481,\n",
       "  'Mfr_Name': 'SALSCO, INC.',\n",
       "  'VehicleTypes': [{'IsPrimary': True, 'Name': 'Trailer'}]},\n",
       " {'Country': 'UNITED STATES (USA)',\n",
       "  'Mfr_CommonName': None,\n",
       "  'Mfr_ID': 1482,\n",
       "  'Mfr_Name': 'LIFT N LOCK, LLC',\n",
       "  'VehicleTypes': []},\n",
       " {'Country': 'UNITED STATES (USA)',\n",
       "  'Mfr_CommonName': None,\n",
       "  'Mfr_ID': 1483,\n",
       "  'Mfr_Name': 'CONTINENTAL BIOMASS INDUSTRIES, INC.',\n",
       "  'VehicleTypes': []}]"
      ]
     },
     "metadata": {},
     "execution_count": 47
    }
   ],
   "source": [
    "manufacturers.get_results()"
   ]
  },
  {
   "source": [
    "Getting DataFrame"
   ],
   "cell_type": "markdown",
   "metadata": {}
  },
  {
   "cell_type": "code",
   "execution_count": 48,
   "metadata": {},
   "outputs": [
    {
     "output_type": "execute_result",
     "data": {
      "text/plain": [
       "     Mfr_ID                                           Mfr_Name  \\\n",
       "1387   1387                           WOOPYONG MOTOR WHEEL LTD   \n",
       "1388   1388                WORCESTER TANK & EQUIPMENT CO., INC   \n",
       "1389   1389                      WORCESTER WHITE AUTOCAR, INC.   \n",
       "1390   1390                                    WORKBENCH, INC.   \n",
       "1391   1391                              U-SCREEN U.S.A., INC.   \n",
       "...     ...                                                ...   \n",
       "1479   1479                                     TAZZARI GL SPA   \n",
       "1480   1480  CHANGZHOU CITY WENMING VEHICLE ACCESSORIES FAC...   \n",
       "1481   1481                                       SALSCO, INC.   \n",
       "1482   1482                                   LIFT N LOCK, LLC   \n",
       "1483   1483               CONTINENTAL BIOMASS INDUSTRIES, INC.   \n",
       "\n",
       "                                           VehicleTypes  \n",
       "1387                                                 []  \n",
       "1388                                                 []  \n",
       "1389                                                 []  \n",
       "1390          [{'IsPrimary': False, 'Name': 'Trailer'}]  \n",
       "1391          [{'IsPrimary': False, 'Name': 'Trailer'}]  \n",
       "...                                                 ...  \n",
       "1479  [{'IsPrimary': True, 'Name': 'Low Speed Vehicl...  \n",
       "1480                                                 []  \n",
       "1481           [{'IsPrimary': True, 'Name': 'Trailer'}]  \n",
       "1482                                                 []  \n",
       "1483                                                 []  \n",
       "\n",
       "[92 rows x 3 columns]"
      ],
      "text/html": "<div>\n<style scoped>\n    .dataframe tbody tr th:only-of-type {\n        vertical-align: middle;\n    }\n\n    .dataframe tbody tr th {\n        vertical-align: top;\n    }\n\n    .dataframe thead th {\n        text-align: right;\n    }\n</style>\n<table border=\"1\" class=\"dataframe\">\n  <thead>\n    <tr style=\"text-align: right;\">\n      <th></th>\n      <th>Mfr_ID</th>\n      <th>Mfr_Name</th>\n      <th>VehicleTypes</th>\n    </tr>\n  </thead>\n  <tbody>\n    <tr>\n      <th>1387</th>\n      <td>1387</td>\n      <td>WOOPYONG MOTOR WHEEL LTD</td>\n      <td>[]</td>\n    </tr>\n    <tr>\n      <th>1388</th>\n      <td>1388</td>\n      <td>WORCESTER TANK &amp; EQUIPMENT CO., INC</td>\n      <td>[]</td>\n    </tr>\n    <tr>\n      <th>1389</th>\n      <td>1389</td>\n      <td>WORCESTER WHITE AUTOCAR, INC.</td>\n      <td>[]</td>\n    </tr>\n    <tr>\n      <th>1390</th>\n      <td>1390</td>\n      <td>WORKBENCH, INC.</td>\n      <td>[{'IsPrimary': False, 'Name': 'Trailer'}]</td>\n    </tr>\n    <tr>\n      <th>1391</th>\n      <td>1391</td>\n      <td>U-SCREEN U.S.A., INC.</td>\n      <td>[{'IsPrimary': False, 'Name': 'Trailer'}]</td>\n    </tr>\n    <tr>\n      <th>...</th>\n      <td>...</td>\n      <td>...</td>\n      <td>...</td>\n    </tr>\n    <tr>\n      <th>1479</th>\n      <td>1479</td>\n      <td>TAZZARI GL SPA</td>\n      <td>[{'IsPrimary': True, 'Name': 'Low Speed Vehicl...</td>\n    </tr>\n    <tr>\n      <th>1480</th>\n      <td>1480</td>\n      <td>CHANGZHOU CITY WENMING VEHICLE ACCESSORIES FAC...</td>\n      <td>[]</td>\n    </tr>\n    <tr>\n      <th>1481</th>\n      <td>1481</td>\n      <td>SALSCO, INC.</td>\n      <td>[{'IsPrimary': True, 'Name': 'Trailer'}]</td>\n    </tr>\n    <tr>\n      <th>1482</th>\n      <td>1482</td>\n      <td>LIFT N LOCK, LLC</td>\n      <td>[]</td>\n    </tr>\n    <tr>\n      <th>1483</th>\n      <td>1483</td>\n      <td>CONTINENTAL BIOMASS INDUSTRIES, INC.</td>\n      <td>[]</td>\n    </tr>\n  </tbody>\n</table>\n<p>92 rows × 3 columns</p>\n</div>"
     },
     "metadata": {},
     "execution_count": 48
    }
   ],
   "source": [
    "manufacturers.get_df()"
   ]
  }
 ]
}